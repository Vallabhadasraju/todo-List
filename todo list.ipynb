{
  "nbformat": 4,
  "nbformat_minor": 0,
  "metadata": {
    "colab": {
      "provenance": []
    },
    "kernelspec": {
      "name": "python3",
      "display_name": "Python 3"
    },
    "language_info": {
      "name": "python"
    }
  },
  "cells": [
    {
      "cell_type": "code",
      "execution_count": null,
      "metadata": {
        "colab": {
          "base_uri": "https://localhost:8080/",
          "height": 646
        },
        "id": "R6dReKCKHd9w",
        "outputId": "11205aba-7ba9-4650-9d54-32fb39fa374b"
      },
      "outputs": [
        {
          "metadata": {
            "tags": null
          },
          "name": "stdout",
          "output_type": "stream",
          "text": [
            "It looks like you are running Gradio on a hosted Jupyter notebook, which requires `share=True`. Automatically setting `share=True` (you can turn this off by setting `share=False` in `launch()` explicitly).\n",
            "\n",
            "Colab notebook detected. This cell will run indefinitely so that you can see errors and logs. To turn off, set debug=False in launch().\n",
            "* Running on public URL: https://251c0c64363e88e4b1.gradio.live\n",
            "\n",
            "This share link expires in 1 week. For free permanent hosting and GPU upgrades, run `gradio deploy` from the terminal in the working directory to deploy to Hugging Face Spaces (https://huggingface.co/spaces)\n"
          ]
        },
        {
          "data": {
            "text/html": [
              "<div><iframe src=\"https://251c0c64363e88e4b1.gradio.live\" width=\"100%\" height=\"500\" allow=\"autoplay; camera; microphone; clipboard-read; clipboard-write;\" frameborder=\"0\" allowfullscreen></iframe></div>"
            ],
            "text/plain": [
              "<IPython.core.display.HTML object>"
            ]
          },
          "metadata": {},
          "output_type": "display_data"
        }
      ],
      "source": [
        "# In the second cell\n",
        "import gradio as gr\n",
        "\n",
        "# --- Application State ---\n",
        "# In Gradio, we manage the list of tasks in a simple list variable.\n",
        "# We add a tuple (task_text, is_completed) to this list.\n",
        "tasks = []\n",
        "\n",
        "# --- Core Functions ---\n",
        "\n",
        "def add_task(current_tasks, new_task_text):\n",
        "    \"\"\"\n",
        "    Adds a new task to the list.\n",
        "    Args:\n",
        "        current_tasks (list): The current list of tasks.\n",
        "        new_task_text (str): The text for the new task.\n",
        "    Returns:\n",
        "        tuple: Updated task list, an empty string for the textbox, and updated checkbox group.\n",
        "    \"\"\"\n",
        "    if new_task_text:\n",
        "        current_tasks.append((new_task_text, False)) # Add as a tuple (text, completed_status)\n",
        "\n",
        "    # We need to return an update for each UI component that changes\n",
        "    return current_tasks, \"\", gr.update(choices=[task for task, completed in current_tasks],\n",
        "                                        value=[task for task, completed in current_tasks if completed])\n",
        "\n",
        "def update_tasks(current_tasks, completed_task_texts):\n",
        "    \"\"\"\n",
        "    Updates the completed status of tasks based on checkbox selections.\n",
        "    Args:\n",
        "        current_tasks (list): The current list of tasks.\n",
        "        completed_task_texts (list): The list of texts from the checked boxes.\n",
        "    Returns:\n",
        "        list: The updated list of tasks.\n",
        "    \"\"\"\n",
        "    updated_tasks = []\n",
        "    for task_text, _ in current_tasks:\n",
        "        is_completed = task_text in completed_task_texts\n",
        "        updated_tasks.append((task_text, is_completed))\n",
        "    return updated_tasks\n",
        "\n",
        "def delete_completed_tasks(current_tasks):\n",
        "    \"\"\"\n",
        "    Deletes all tasks that are marked as completed.\n",
        "    Returns:\n",
        "        tuple: The filtered list of tasks and an updated checkbox group.\n",
        "    \"\"\"\n",
        "    # Keep only the tasks that are NOT completed\n",
        "    remaining_tasks = [(task, completed) for task, completed in current_tasks if not completed]\n",
        "\n",
        "    # Update the UI components\n",
        "    return remaining_tasks, gr.update(choices=[task for task, completed in remaining_tasks], value=[])\n",
        "\n",
        "\n",
        "# --- Gradio UI Layout ---\n",
        "\n",
        "with gr.Blocks(css=\"\"\"#del_btn {background-color: #f44336; color: white;}\"\"\", theme=gr.themes.Soft()) as app:\n",
        "\n",
        "    # Using a State variable to hold our list of tasks\n",
        "    task_state = gr.State(tasks)\n",
        "\n",
        "    gr.Markdown(\"# ✅ Modern To-Do List\")\n",
        "    gr.Markdown(\"Add, manage, and complete your tasks.\")\n",
        "\n",
        "    with gr.Row():\n",
        "        # Textbox for new task input\n",
        "        task_input = gr.Textbox(\n",
        "            label=\"New Task\",\n",
        "            placeholder=\"What do you need to do?\",\n",
        "            scale=4 # Make it wider than the button\n",
        "        )\n",
        "        # Button to add a new task\n",
        "        add_button = gr.Button(\"Add Task\", variant=\"primary\", scale=1)\n",
        "\n",
        "    gr.Markdown(\"---\")\n",
        "    gr.Markdown(\"### Your Tasks\")\n",
        "\n",
        "    # CheckboxGroup to display the list of tasks\n",
        "    task_list_display = gr.CheckboxGroup(\n",
        "        label=\"Tasks\",\n",
        "        choices=[]\n",
        "    )\n",
        "\n",
        "    # Button to clear completed tasks\n",
        "    delete_button = gr.Button(\"Delete Completed Tasks\", elem_id=\"del_btn\")\n",
        "\n",
        "    # --- Event Handlers (Connecting UI to Functions) ---\n",
        "\n",
        "    # When the \"Add Task\" button is clicked:\n",
        "    add_button.click(\n",
        "        fn=add_task,\n",
        "        inputs=[task_state, task_input],\n",
        "        outputs=[task_state, task_input, task_list_display]\n",
        "    )\n",
        "\n",
        "    # Also allow adding a task by pressing Enter in the textbox\n",
        "    task_input.submit(\n",
        "        fn=add_task,\n",
        "        inputs=[task_state, task_input],\n",
        "        outputs=[task_state, task_input, task_list_display]\n",
        "    )\n",
        "\n",
        "    # When a checkbox is checked or unchecked:\n",
        "    task_list_display.change(\n",
        "        fn=update_tasks,\n",
        "        inputs=[task_state, task_list_display],\n",
        "        outputs=[task_state]\n",
        "    )\n",
        "\n",
        "    # When the \"Delete\" button is clicked:\n",
        "    delete_button.click(\n",
        "        fn=delete_completed_tasks,\n",
        "        inputs=[task_state],\n",
        "        outputs=[task_state, task_list_display]\n",
        "    )\n",
        "\n",
        "# Launch the app\n",
        "app.launch(debug=True)"
      ]
    }
  ]
}